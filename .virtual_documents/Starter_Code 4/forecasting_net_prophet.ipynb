





# Install the required libraries
!pip install prophet


# Import the required libraries and dependencies
import pandas as pd
from prophet import Prophet
import datetime as dt
import numpy as np
import matplotlib.pyplot as plt
%matplotlib inline








# Store the data in a Pandas DataFrame
# Set the "Date" column as the Datetime Index.
df_mercado_trends = pd.read_csv(
    "https://static.bc-edx.com/ai/ail-v-1-0/m8/lms/datasets/google_hourly_search_trends.csv",
    index_col='Date',
    parse_dates=False  # Load initially without parsing dates
).dropna()

# Convert the index to datetime format with the correct format
df_mercado_trends.index = pd.to_datetime(df_mercado_trends.index, format='%m/%d/%y %H:%M', errors='coerce')

# Drop any rows where the datetime conversion failed (if applicable)
df_mercado_trends = df_mercado_trends.dropna()

# Review the first and last five rows of the DataFrame
display(df_mercado_trends.head())
display(df_mercado_trends.tail())


# Review the data types of the DataFrame using the info function
df_mercado_trends.info()


# Slice the DataFrame to just the month of May 2020
may_2020_data = df_mercado_trends['2020-05-01':'2020-05-31']

# Create a plot to visualize the data for May 2020 with additional styling
plt.figure(figsize=(14, 7))
plt.plot(may_2020_data.index, may_2020_data['Search Trends'], color='blue', linewidth=2)
plt.title("Google Search Trends for MercadoLibre - May 2020", fontsize=16)
plt.xlabel("Date", fontsize=12)
plt.ylabel("Search Trends", fontsize=12)
plt.grid(True, which='both', linestyle='--', linewidth=0.5)
plt.xticks(rotation=45)
plt.tight_layout()

plt.show()





# Calculate the sum of the total search traffic for May 2020
traffic_may_2020 = may_2020_data['Search Trends'].sum()

# View the traffic_may_2020 value
print("Total search traffic for May 2020:")
print(traffic_may_2020)



# Calcluate the monhtly median search traffic across all months
# Group the DataFrame by index year and then index month, chain the sum and then the median functions
monthly_traffic = df_mercado_trends.resample('ME').sum()
median_monthly_traffic = monthly_traffic['Search Trends'].median()

# View the median_monthly_traffic value
print("Median monthly search traffic across all months:")
print(median_monthly_traffic)


# Compare the seach traffic for the month of May 2020 to the overall monthly median value
comparison_ratio = traffic_may_2020 / median_monthly_traffic

# View the comparison ratio
print("Comparison of May 2020 search traffic to the overall monthly median:")
print(comparison_ratio)














# Group the hourly search data to plot the average traffic by the hour of day, using `df.index.hour`
hourly_traffic = df_mercado_trends.groupby(df_mercado_trends.index.hour).mean()

# Create a plot with custom styling
plt.figure(figsize=(14, 7))
plt.plot(hourly_traffic.index, hourly_traffic['Search Trends'], marker='o', linestyle='-', color='teal', linewidth=2)
plt.title('Average Google Search Traffic by Hour of the Day', fontsize=16)
plt.xlabel('Hour of the Day', fontsize=12)
plt.ylabel('Average Search Traffic', fontsize=12)
plt.grid(True, which='both', linestyle='--', linewidth=0.5)
plt.xticks(hourly_traffic.index, fontsize=10)
plt.yticks(fontsize=10)
plt.tight_layout()

plt.show()





# Group the hourly search data to plot the average traffic by the day of week, using `df.index.isocalendar().day`
daily_traffic = df_mercado_trends.groupby(df_mercado_trends.index.dayofweek).mean()

# Create a plot with custom styling
plt.figure(figsize=(14, 7))
plt.plot(daily_traffic.index, daily_traffic['Search Trends'], marker='o', linestyle='-', color='orange', linewidth=2)
plt.title('Average Google Search Traffic by Day of the Week', fontsize=16)
plt.xlabel('Day of the Week (0=Monday, 6=Sunday)', fontsize=12)
plt.ylabel('Average Search Traffic', fontsize=12)
plt.grid(True, which='both', linestyle='--', linewidth=0.5)
plt.xticks(daily_traffic.index, labels=['Mon', 'Tue', 'Wed', 'Thu', 'Fri', 'Sat', 'Sun'], fontsize=10)
plt.yticks(fontsize=10)
plt.tight_layout()

plt.show()





# Group the hourly search data to plot the average traffic by the week of the year using `df.index.isocalendar().week`
weekly_traffic = df_mercado_trends.groupby(df_mercado_trends.index.isocalendar().week).mean()

# Create a plot with custom styling
plt.figure(figsize=(14, 7))
plt.plot(weekly_traffic.index, weekly_traffic['Search Trends'], marker='o', linestyle='-', color='green', linewidth=2)
plt.title('Average Google Search Traffic by Week of the Year', fontsize=16)
plt.xlabel('Week of the Year', fontsize=12)
plt.ylabel('Average Search Traffic', fontsize=12)
plt.grid(True, which='both', linestyle='--', linewidth=0.5)
plt.xticks(weekly_traffic.index, fontsize=10)
plt.yticks(fontsize=10)
plt.tight_layout()

plt.show()














# Upload the "mercado_stock_price.csv" file into Colab, then store in a Pandas DataFrame
# Set the "date" column as the Datetime Index.
df_mercado_stock = pd.read_csv(
    "https://static.bc-edx.com/ai/ail-v-1-0/m8/lms/datasets/mercado_stock_price.csv",
    index_col="date",
    parse_dates=True
).dropna()

# View the first and last five rows of the DataFrame
display(df_mercado_stock.head())
display(df_mercado_stock.tail())


# Visualize the closing price of the df_mercado_stock DataFrame
plt.figure(figsize=(14, 7))
plt.plot(df_mercado_stock.index, df_mercado_stock['close'], color='dodgerblue', linewidth=2)
plt.title('MercadoLibre Stock Closing Prices', fontsize=16)
plt.xlabel('Date', fontsize=12)
plt.ylabel('Closing Price', fontsize=12)
plt.grid(True, which='both', linestyle='--', linewidth=0.5)
plt.xticks(rotation=45)
plt.tight_layout()
plt.show()


# Concatenate the df_mercado_stock DataFrame with the df_mercado_trends DataFrame
# Concatenate the DataFrame by columns (axis=1), and drop and rows with only one column of data
combined_df = pd.concat([df_mercado_stock, df_mercado_trends], axis=1).dropna()

# View the first and last five rows of the DataFrame
display(combined_df.head())
display(combined_df.tail())





# For the combined dataframe, slice to just the first half of 2020 (2020-01 through 2020-06)
first_half_2020 = combined_df['2020-01-01':'2020-06-30']

# View the first and last five rows of first_half_2020 DataFrame
display(first_half_2020.head())
display(first_half_2020.tail())


# Visualize the close and Search Trends data with custom styling
fig, axes = plt.subplots(2, 1, figsize=(14, 12), sharex=True)

# Plot the closing price with custom styling
first_half_2020['close'].plot(
    ax=axes[0], 
    color='blue', 
    linewidth=2, 
    title='MercadoLibre Stock Closing Prices - First Half of 2020'
)
axes[0].set_ylabel('Closing Price', fontsize=12)
axes[0].grid(True, which='both', linestyle='--', linewidth=0.5)
axes[0].tick_params(axis='x', rotation=45)
axes[0].tick_params(axis='y', labelsize=10)

# Plot the search trends with custom styling
first_half_2020['Search Trends'].plot(
    ax=axes[1], 
    color='orange', 
    linewidth=2, 
    title='Google Search Trends for MercadoLibre - First Half of 2020'
)
axes[1].set_ylabel('Search Trends', fontsize=12)
axes[1].set_xlabel('Date', fontsize=12)
axes[1].grid(True, which='both', linestyle='--', linewidth=0.5)
axes[1].tick_params(axis='x', rotation=45)
axes[1].tick_params(axis='y', labelsize=10)

# Adjust layout for better spacing
plt.tight_layout()

plt.show()











# Create a new column in the mercado_stock_trends_df DataFrame called Lagged Search Trends
# This column should shift the Search Trends information by one hour
combined_df['Lagged Search Trends'] = combined_df['Search Trends'].shift(1)


# Create a new column in the mercado_stock_trends_df DataFrame called Stock Volatility
# This column should calculate the standard deviation of the closing stock price return data over a 4 period rolling window
combined_df['Stock Volatility'] = combined_df['close'].pct_change().rolling(window=4).std()


# Visualize the stock volatility
plt.figure(figsize=(14, 7))
plt.plot(combined_df.index, combined_df['Stock Volatility'], color='crimson', linewidth=2)
plt.title('Stock Volatility - 4-Hour Rolling Standard Deviation', fontsize=16)
plt.xlabel('Date', fontsize=12)
plt.ylabel('Volatility (Standard Deviation)', fontsize=12)
plt.grid(True, which='both', linestyle='--', linewidth=0.5)
plt.xticks(rotation=45)
plt.tight_layout()

plt.show()





# Create a new column in the mercado_stock_trends_df DataFrame called Hourly Stock Return
# This column should calculate hourly return percentage of the closing price
combined_df['Hourly Stock Return'] = combined_df['close'].pct_change()


# View the first and last five rows of the mercado_stock_trends_df DataFrame
display(combined_df.head())
display(combined_df.tail())





# Construct correlation table of Stock Volatility, Lagged Search Trends, and Hourly Stock Return
combined_df[['Stock Volatility', 'Lagged Search Trends', 'Hourly Stock Return']].corr()














# Using the df_mercado_trends DataFrame, reset the index so the date information is no longer the index
mercado_prophet_df = df_mercado_trends.reset_index()

# Label the columns ds and y so that the syntax is recognized by Prophet
mercado_prophet_df.columns = ['ds', 'y']

# Drop an NaN values from the prophet_df DataFrame
mercado_prophet_df = mercado_prophet_df.dropna()

# View the first and last five rows of the mercado_prophet_df DataFrame
display(mercado_prophet_df.head())
display(mercado_prophet_df.tail())


# Call the Prophet function, store as an object
from prophet import Prophet

model = Prophet()


# Fit the time-series model.
model.fit(mercado_prophet_df)


# Create a future dataframe to hold predictions
# Make the prediction go out as far as 2000 hours (approx 80 days)
future_mercado_trends = model.make_future_dataframe(periods=2000, freq='h')

# View the last five rows of the future_mercado_trends DataFrame
display(future_mercado_trends.tail())


# Make the predictions for the trend data using the future_mercado_trends DataFrame
forecast_mercado_trends = model.predict(future_mercado_trends)

# Display the first five rows of the forecast_mercado_trends DataFrame
display(forecast_mercado_trends.head())





# Plot the Prophet predictions for the Mercado trends data
fig_forecast = model.plot(forecast_mercado_trends)
plt.title('Forecast of Google Search Trends for MercadoLibre', fontsize=16)
plt.xlabel('Date', fontsize=12)
plt.ylabel('Search Trends', fontsize=12)
plt.grid(True, which='both', linestyle='--', linewidth=0.5)
plt.tight_layout()
plt.show()











# Set the index in the forecast_mercado_trends DataFrame to the ds datetime column
forecast_mercado_trends.set_index('ds', inplace=True)

# View only the yhat, yhat_lower, and yhat_upper columns from the DataFrame
display(forecast_mercado_trends[['yhat', 'yhat_lower', 'yhat_upper']].head())
display(forecast_mercado_trends[['yhat', 'yhat_lower', 'yhat_upper']].tail())





# From the forecast_mercado_trends DataFrame, plot the data to visualize
# the yhat, yhat_lower, and yhat_upper columns over the last 2000 hours
forecast_mercado_trends[['yhat', 'yhat_lower', 'yhat_upper']].tail(2000).plot(
    figsize=(14, 7),
    title='Prophet Forecast with Confidence Intervals - Last 2000 Hours',
    linewidth=2,
    grid=True
)

# Customize plot aesthetics
plt.xlabel('Date', fontsize=12)
plt.ylabel('Search Trends', fontsize=12)
plt.grid(True, which='both', linestyle='--', linewidth=0.5)
plt.tight_layout()

plt.show()


# Reset the index in the forecast_mercado_trends DataFrame
forecast_mercado_trends.reset_index(inplace=True)

# Use the plot_components function to visualize the forecast results for the forecast_mercado_trends DataFrame
model.plot_components(forecast_mercado_trends)
plt.show()












